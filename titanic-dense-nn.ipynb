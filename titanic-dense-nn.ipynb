{
 "cells": [
  {
   "cell_type": "code",
   "execution_count": 1,
   "id": "db598dea",
   "metadata": {
    "execution": {
     "iopub.execute_input": "2023-03-14T17:08:44.672449Z",
     "iopub.status.busy": "2023-03-14T17:08:44.672019Z",
     "iopub.status.idle": "2023-03-14T17:08:54.268440Z",
     "shell.execute_reply": "2023-03-14T17:08:54.267159Z"
    },
    "papermill": {
     "duration": 9.608273,
     "end_time": "2023-03-14T17:08:54.271662",
     "exception": false,
     "start_time": "2023-03-14T17:08:44.663389",
     "status": "completed"
    },
    "tags": []
   },
   "outputs": [
    {
     "data": {
      "text/html": [
       "<div>\n",
       "<style scoped>\n",
       "    .dataframe tbody tr th:only-of-type {\n",
       "        vertical-align: middle;\n",
       "    }\n",
       "\n",
       "    .dataframe tbody tr th {\n",
       "        vertical-align: top;\n",
       "    }\n",
       "\n",
       "    .dataframe thead th {\n",
       "        text-align: right;\n",
       "    }\n",
       "</style>\n",
       "<table border=\"1\" class=\"dataframe\">\n",
       "  <thead>\n",
       "    <tr style=\"text-align: right;\">\n",
       "      <th></th>\n",
       "      <th>PassengerId</th>\n",
       "      <th>Survived</th>\n",
       "      <th>Pclass</th>\n",
       "      <th>Name</th>\n",
       "      <th>Sex</th>\n",
       "      <th>Age</th>\n",
       "      <th>SibSp</th>\n",
       "      <th>Parch</th>\n",
       "      <th>Ticket</th>\n",
       "      <th>Fare</th>\n",
       "      <th>Cabin</th>\n",
       "      <th>Embarked</th>\n",
       "    </tr>\n",
       "  </thead>\n",
       "  <tbody>\n",
       "    <tr>\n",
       "      <th>0</th>\n",
       "      <td>1</td>\n",
       "      <td>0</td>\n",
       "      <td>3</td>\n",
       "      <td>Braund, Mr. Owen Harris</td>\n",
       "      <td>male</td>\n",
       "      <td>22.0</td>\n",
       "      <td>1</td>\n",
       "      <td>0</td>\n",
       "      <td>A/5 21171</td>\n",
       "      <td>7.2500</td>\n",
       "      <td>NaN</td>\n",
       "      <td>S</td>\n",
       "    </tr>\n",
       "    <tr>\n",
       "      <th>1</th>\n",
       "      <td>2</td>\n",
       "      <td>1</td>\n",
       "      <td>1</td>\n",
       "      <td>Cumings, Mrs. John Bradley (Florence Briggs Th...</td>\n",
       "      <td>female</td>\n",
       "      <td>38.0</td>\n",
       "      <td>1</td>\n",
       "      <td>0</td>\n",
       "      <td>PC 17599</td>\n",
       "      <td>71.2833</td>\n",
       "      <td>C85</td>\n",
       "      <td>C</td>\n",
       "    </tr>\n",
       "    <tr>\n",
       "      <th>2</th>\n",
       "      <td>3</td>\n",
       "      <td>1</td>\n",
       "      <td>3</td>\n",
       "      <td>Heikkinen, Miss. Laina</td>\n",
       "      <td>female</td>\n",
       "      <td>26.0</td>\n",
       "      <td>0</td>\n",
       "      <td>0</td>\n",
       "      <td>STON/O2. 3101282</td>\n",
       "      <td>7.9250</td>\n",
       "      <td>NaN</td>\n",
       "      <td>S</td>\n",
       "    </tr>\n",
       "    <tr>\n",
       "      <th>3</th>\n",
       "      <td>4</td>\n",
       "      <td>1</td>\n",
       "      <td>1</td>\n",
       "      <td>Futrelle, Mrs. Jacques Heath (Lily May Peel)</td>\n",
       "      <td>female</td>\n",
       "      <td>35.0</td>\n",
       "      <td>1</td>\n",
       "      <td>0</td>\n",
       "      <td>113803</td>\n",
       "      <td>53.1000</td>\n",
       "      <td>C123</td>\n",
       "      <td>S</td>\n",
       "    </tr>\n",
       "    <tr>\n",
       "      <th>4</th>\n",
       "      <td>5</td>\n",
       "      <td>0</td>\n",
       "      <td>3</td>\n",
       "      <td>Allen, Mr. William Henry</td>\n",
       "      <td>male</td>\n",
       "      <td>35.0</td>\n",
       "      <td>0</td>\n",
       "      <td>0</td>\n",
       "      <td>373450</td>\n",
       "      <td>8.0500</td>\n",
       "      <td>NaN</td>\n",
       "      <td>S</td>\n",
       "    </tr>\n",
       "  </tbody>\n",
       "</table>\n",
       "</div>"
      ],
      "text/plain": [
       "   PassengerId  Survived  Pclass  \\\n",
       "0            1         0       3   \n",
       "1            2         1       1   \n",
       "2            3         1       3   \n",
       "3            4         1       1   \n",
       "4            5         0       3   \n",
       "\n",
       "                                                Name     Sex   Age  SibSp  \\\n",
       "0                            Braund, Mr. Owen Harris    male  22.0      1   \n",
       "1  Cumings, Mrs. John Bradley (Florence Briggs Th...  female  38.0      1   \n",
       "2                             Heikkinen, Miss. Laina  female  26.0      0   \n",
       "3       Futrelle, Mrs. Jacques Heath (Lily May Peel)  female  35.0      1   \n",
       "4                           Allen, Mr. William Henry    male  35.0      0   \n",
       "\n",
       "   Parch            Ticket     Fare Cabin Embarked  \n",
       "0      0         A/5 21171   7.2500   NaN        S  \n",
       "1      0          PC 17599  71.2833   C85        C  \n",
       "2      0  STON/O2. 3101282   7.9250   NaN        S  \n",
       "3      0            113803  53.1000  C123        S  \n",
       "4      0            373450   8.0500   NaN        S  "
      ]
     },
     "execution_count": 1,
     "metadata": {},
     "output_type": "execute_result"
    }
   ],
   "source": [
    "import matplotlib.pyplot as plt\n",
    "import numpy as np\n",
    "import pandas as pd\n",
    "from tensorflow import keras\n",
    "from tensorflow.keras import layers\n",
    "from sklearn import preprocessing\n",
    "from sklearn.metrics import mean_squared_error\n",
    "from sklearn.metrics import confusion_matrix, recall_score\n",
    "from sklearn.model_selection import train_test_split\n",
    "\n",
    "df = pd.read_csv('/kaggle/input/titanic/train.csv')\n",
    "df.head(5)"
   ]
  },
  {
   "cell_type": "code",
   "execution_count": 2,
   "id": "7d83d3ab",
   "metadata": {
    "execution": {
     "iopub.execute_input": "2023-03-14T17:08:54.283906Z",
     "iopub.status.busy": "2023-03-14T17:08:54.283509Z",
     "iopub.status.idle": "2023-03-14T17:08:54.302052Z",
     "shell.execute_reply": "2023-03-14T17:08:54.301217Z"
    },
    "papermill": {
     "duration": 0.027278,
     "end_time": "2023-03-14T17:08:54.304240",
     "exception": false,
     "start_time": "2023-03-14T17:08:54.276962",
     "status": "completed"
    },
    "tags": []
   },
   "outputs": [
    {
     "data": {
      "text/plain": [
       "PassengerId    0\n",
       "Survived       0\n",
       "Pclass         0\n",
       "Name           0\n",
       "Sex            0\n",
       "Age            0\n",
       "SibSp          0\n",
       "Parch          0\n",
       "Ticket         0\n",
       "Fare           0\n",
       "Cabin          1\n",
       "Embarked       0\n",
       "dtype: int64"
      ]
     },
     "execution_count": 2,
     "metadata": {},
     "output_type": "execute_result"
    }
   ],
   "source": [
    "### Data conversion for network perception\n",
    "\n",
    "# Replacing NaN Age with mean\n",
    "# Replacing another NaN by ffill\n",
    "\n",
    "mean_age = df[[\"Age\"]].mean()\n",
    "\n",
    "df = df.fillna({'Age':mean_age})\n",
    "df = df.fillna(method = \"ffill\")\n",
    "\n",
    "df.isnull().sum()"
   ]
  },
  {
   "cell_type": "code",
   "execution_count": 3,
   "id": "ae8f6a22",
   "metadata": {
    "execution": {
     "iopub.execute_input": "2023-03-14T17:08:54.316116Z",
     "iopub.status.busy": "2023-03-14T17:08:54.315559Z",
     "iopub.status.idle": "2023-03-14T17:08:54.336307Z",
     "shell.execute_reply": "2023-03-14T17:08:54.335186Z"
    },
    "papermill": {
     "duration": 0.02953,
     "end_time": "2023-03-14T17:08:54.338875",
     "exception": false,
     "start_time": "2023-03-14T17:08:54.309345",
     "status": "completed"
    },
    "tags": []
   },
   "outputs": [
    {
     "data": {
      "text/html": [
       "<div>\n",
       "<style scoped>\n",
       "    .dataframe tbody tr th:only-of-type {\n",
       "        vertical-align: middle;\n",
       "    }\n",
       "\n",
       "    .dataframe tbody tr th {\n",
       "        vertical-align: top;\n",
       "    }\n",
       "\n",
       "    .dataframe thead th {\n",
       "        text-align: right;\n",
       "    }\n",
       "</style>\n",
       "<table border=\"1\" class=\"dataframe\">\n",
       "  <thead>\n",
       "    <tr style=\"text-align: right;\">\n",
       "      <th></th>\n",
       "      <th>Survived</th>\n",
       "      <th>Pclass</th>\n",
       "      <th>Age</th>\n",
       "      <th>SibSp</th>\n",
       "      <th>Parch</th>\n",
       "      <th>Fare</th>\n",
       "      <th>gender_type</th>\n",
       "      <th>embark_type</th>\n",
       "    </tr>\n",
       "  </thead>\n",
       "  <tbody>\n",
       "    <tr>\n",
       "      <th>0</th>\n",
       "      <td>0</td>\n",
       "      <td>3</td>\n",
       "      <td>22.0</td>\n",
       "      <td>1</td>\n",
       "      <td>0</td>\n",
       "      <td>7.2500</td>\n",
       "      <td>1</td>\n",
       "      <td>2</td>\n",
       "    </tr>\n",
       "    <tr>\n",
       "      <th>1</th>\n",
       "      <td>1</td>\n",
       "      <td>1</td>\n",
       "      <td>38.0</td>\n",
       "      <td>1</td>\n",
       "      <td>0</td>\n",
       "      <td>71.2833</td>\n",
       "      <td>0</td>\n",
       "      <td>0</td>\n",
       "    </tr>\n",
       "    <tr>\n",
       "      <th>2</th>\n",
       "      <td>1</td>\n",
       "      <td>3</td>\n",
       "      <td>26.0</td>\n",
       "      <td>0</td>\n",
       "      <td>0</td>\n",
       "      <td>7.9250</td>\n",
       "      <td>0</td>\n",
       "      <td>2</td>\n",
       "    </tr>\n",
       "    <tr>\n",
       "      <th>3</th>\n",
       "      <td>1</td>\n",
       "      <td>1</td>\n",
       "      <td>35.0</td>\n",
       "      <td>1</td>\n",
       "      <td>0</td>\n",
       "      <td>53.1000</td>\n",
       "      <td>0</td>\n",
       "      <td>2</td>\n",
       "    </tr>\n",
       "    <tr>\n",
       "      <th>4</th>\n",
       "      <td>0</td>\n",
       "      <td>3</td>\n",
       "      <td>35.0</td>\n",
       "      <td>0</td>\n",
       "      <td>0</td>\n",
       "      <td>8.0500</td>\n",
       "      <td>1</td>\n",
       "      <td>2</td>\n",
       "    </tr>\n",
       "    <tr>\n",
       "      <th>5</th>\n",
       "      <td>0</td>\n",
       "      <td>3</td>\n",
       "      <td>35.0</td>\n",
       "      <td>0</td>\n",
       "      <td>0</td>\n",
       "      <td>8.4583</td>\n",
       "      <td>1</td>\n",
       "      <td>1</td>\n",
       "    </tr>\n",
       "    <tr>\n",
       "      <th>6</th>\n",
       "      <td>0</td>\n",
       "      <td>1</td>\n",
       "      <td>54.0</td>\n",
       "      <td>0</td>\n",
       "      <td>0</td>\n",
       "      <td>51.8625</td>\n",
       "      <td>1</td>\n",
       "      <td>2</td>\n",
       "    </tr>\n",
       "    <tr>\n",
       "      <th>7</th>\n",
       "      <td>0</td>\n",
       "      <td>3</td>\n",
       "      <td>2.0</td>\n",
       "      <td>3</td>\n",
       "      <td>1</td>\n",
       "      <td>21.0750</td>\n",
       "      <td>1</td>\n",
       "      <td>2</td>\n",
       "    </tr>\n",
       "    <tr>\n",
       "      <th>8</th>\n",
       "      <td>1</td>\n",
       "      <td>3</td>\n",
       "      <td>27.0</td>\n",
       "      <td>0</td>\n",
       "      <td>2</td>\n",
       "      <td>11.1333</td>\n",
       "      <td>0</td>\n",
       "      <td>2</td>\n",
       "    </tr>\n",
       "    <tr>\n",
       "      <th>9</th>\n",
       "      <td>1</td>\n",
       "      <td>2</td>\n",
       "      <td>14.0</td>\n",
       "      <td>1</td>\n",
       "      <td>0</td>\n",
       "      <td>30.0708</td>\n",
       "      <td>0</td>\n",
       "      <td>0</td>\n",
       "    </tr>\n",
       "  </tbody>\n",
       "</table>\n",
       "</div>"
      ],
      "text/plain": [
       "   Survived  Pclass   Age  SibSp  Parch     Fare  gender_type  embark_type\n",
       "0         0       3  22.0      1      0   7.2500            1            2\n",
       "1         1       1  38.0      1      0  71.2833            0            0\n",
       "2         1       3  26.0      0      0   7.9250            0            2\n",
       "3         1       1  35.0      1      0  53.1000            0            2\n",
       "4         0       3  35.0      0      0   8.0500            1            2\n",
       "5         0       3  35.0      0      0   8.4583            1            1\n",
       "6         0       1  54.0      0      0  51.8625            1            2\n",
       "7         0       3   2.0      3      1  21.0750            1            2\n",
       "8         1       3  27.0      0      2  11.1333            0            2\n",
       "9         1       2  14.0      1      0  30.0708            0            0"
      ]
     },
     "execution_count": 3,
     "metadata": {},
     "output_type": "execute_result"
    }
   ],
   "source": [
    "# Replacing \"Embarked\" and \"Sex\" columns with integer  encoding\n",
    "\n",
    "label_encoder = preprocessing.LabelEncoder()\n",
    "\n",
    "df['gender_type'] = label_encoder.fit_transform(df[\"Sex\"])\n",
    "df['embark_type'] = label_encoder.fit_transform(df[\"Embarked\"])\n",
    "\n",
    "# Delete unsable features\n",
    "\n",
    "del df['Ticket']\n",
    "del df['Sex']\n",
    "del df['Embarked']\n",
    "del df['Cabin']\n",
    "del df['Name']\n",
    "del df['PassengerId']\n",
    "\n",
    "df.head(10)"
   ]
  },
  {
   "cell_type": "code",
   "execution_count": 4,
   "id": "9b164e6d",
   "metadata": {
    "execution": {
     "iopub.execute_input": "2023-03-14T17:08:54.351456Z",
     "iopub.status.busy": "2023-03-14T17:08:54.351096Z",
     "iopub.status.idle": "2023-03-14T17:08:54.356583Z",
     "shell.execute_reply": "2023-03-14T17:08:54.355283Z"
    },
    "papermill": {
     "duration": 0.01458,
     "end_time": "2023-03-14T17:08:54.358911",
     "exception": false,
     "start_time": "2023-03-14T17:08:54.344331",
     "status": "completed"
    },
    "tags": []
   },
   "outputs": [],
   "source": [
    "# Extract Survived feature as target array\n",
    "\n",
    "y = df['Survived']\n",
    "del df['Survived']\n",
    " "
   ]
  },
  {
   "cell_type": "code",
   "execution_count": 5,
   "id": "ccdf3d0a",
   "metadata": {
    "execution": {
     "iopub.execute_input": "2023-03-14T17:08:54.371110Z",
     "iopub.status.busy": "2023-03-14T17:08:54.370711Z",
     "iopub.status.idle": "2023-03-14T17:08:54.395130Z",
     "shell.execute_reply": "2023-03-14T17:08:54.394161Z"
    },
    "papermill": {
     "duration": 0.033172,
     "end_time": "2023-03-14T17:08:54.397361",
     "exception": false,
     "start_time": "2023-03-14T17:08:54.364189",
     "status": "completed"
    },
    "tags": []
   },
   "outputs": [
    {
     "data": {
      "text/html": [
       "<div>\n",
       "<style scoped>\n",
       "    .dataframe tbody tr th:only-of-type {\n",
       "        vertical-align: middle;\n",
       "    }\n",
       "\n",
       "    .dataframe tbody tr th {\n",
       "        vertical-align: top;\n",
       "    }\n",
       "\n",
       "    .dataframe thead th {\n",
       "        text-align: right;\n",
       "    }\n",
       "</style>\n",
       "<table border=\"1\" class=\"dataframe\">\n",
       "  <thead>\n",
       "    <tr style=\"text-align: right;\">\n",
       "      <th></th>\n",
       "      <th>Pclass</th>\n",
       "      <th>Age</th>\n",
       "      <th>SibSp</th>\n",
       "      <th>Parch</th>\n",
       "      <th>Fare</th>\n",
       "      <th>gender_type</th>\n",
       "      <th>embark_type</th>\n",
       "    </tr>\n",
       "  </thead>\n",
       "  <tbody>\n",
       "    <tr>\n",
       "      <th>0</th>\n",
       "      <td>0.666667</td>\n",
       "      <td>0.26975</td>\n",
       "      <td>0.125</td>\n",
       "      <td>0.000000</td>\n",
       "      <td>0.014151</td>\n",
       "      <td>1.0</td>\n",
       "      <td>1.0</td>\n",
       "    </tr>\n",
       "    <tr>\n",
       "      <th>1</th>\n",
       "      <td>0.000000</td>\n",
       "      <td>0.46975</td>\n",
       "      <td>0.125</td>\n",
       "      <td>0.000000</td>\n",
       "      <td>0.139136</td>\n",
       "      <td>0.0</td>\n",
       "      <td>0.0</td>\n",
       "    </tr>\n",
       "    <tr>\n",
       "      <th>2</th>\n",
       "      <td>0.666667</td>\n",
       "      <td>0.31975</td>\n",
       "      <td>0.000</td>\n",
       "      <td>0.000000</td>\n",
       "      <td>0.015469</td>\n",
       "      <td>0.0</td>\n",
       "      <td>1.0</td>\n",
       "    </tr>\n",
       "    <tr>\n",
       "      <th>3</th>\n",
       "      <td>0.000000</td>\n",
       "      <td>0.43225</td>\n",
       "      <td>0.125</td>\n",
       "      <td>0.000000</td>\n",
       "      <td>0.103644</td>\n",
       "      <td>0.0</td>\n",
       "      <td>1.0</td>\n",
       "    </tr>\n",
       "    <tr>\n",
       "      <th>4</th>\n",
       "      <td>0.666667</td>\n",
       "      <td>0.43225</td>\n",
       "      <td>0.000</td>\n",
       "      <td>0.000000</td>\n",
       "      <td>0.015713</td>\n",
       "      <td>1.0</td>\n",
       "      <td>1.0</td>\n",
       "    </tr>\n",
       "    <tr>\n",
       "      <th>5</th>\n",
       "      <td>0.666667</td>\n",
       "      <td>0.43225</td>\n",
       "      <td>0.000</td>\n",
       "      <td>0.000000</td>\n",
       "      <td>0.016510</td>\n",
       "      <td>1.0</td>\n",
       "      <td>0.5</td>\n",
       "    </tr>\n",
       "    <tr>\n",
       "      <th>6</th>\n",
       "      <td>0.000000</td>\n",
       "      <td>0.66975</td>\n",
       "      <td>0.000</td>\n",
       "      <td>0.000000</td>\n",
       "      <td>0.101229</td>\n",
       "      <td>1.0</td>\n",
       "      <td>1.0</td>\n",
       "    </tr>\n",
       "    <tr>\n",
       "      <th>7</th>\n",
       "      <td>0.666667</td>\n",
       "      <td>0.01975</td>\n",
       "      <td>0.375</td>\n",
       "      <td>0.166667</td>\n",
       "      <td>0.041136</td>\n",
       "      <td>1.0</td>\n",
       "      <td>1.0</td>\n",
       "    </tr>\n",
       "    <tr>\n",
       "      <th>8</th>\n",
       "      <td>0.666667</td>\n",
       "      <td>0.33225</td>\n",
       "      <td>0.000</td>\n",
       "      <td>0.333333</td>\n",
       "      <td>0.021731</td>\n",
       "      <td>0.0</td>\n",
       "      <td>1.0</td>\n",
       "    </tr>\n",
       "    <tr>\n",
       "      <th>9</th>\n",
       "      <td>0.333333</td>\n",
       "      <td>0.16975</td>\n",
       "      <td>0.125</td>\n",
       "      <td>0.000000</td>\n",
       "      <td>0.058694</td>\n",
       "      <td>0.0</td>\n",
       "      <td>0.0</td>\n",
       "    </tr>\n",
       "  </tbody>\n",
       "</table>\n",
       "</div>"
      ],
      "text/plain": [
       "     Pclass      Age  SibSp     Parch      Fare  gender_type  embark_type\n",
       "0  0.666667  0.26975  0.125  0.000000  0.014151          1.0          1.0\n",
       "1  0.000000  0.46975  0.125  0.000000  0.139136          0.0          0.0\n",
       "2  0.666667  0.31975  0.000  0.000000  0.015469          0.0          1.0\n",
       "3  0.000000  0.43225  0.125  0.000000  0.103644          0.0          1.0\n",
       "4  0.666667  0.43225  0.000  0.000000  0.015713          1.0          1.0\n",
       "5  0.666667  0.43225  0.000  0.000000  0.016510          1.0          0.5\n",
       "6  0.000000  0.66975  0.000  0.000000  0.101229          1.0          1.0\n",
       "7  0.666667  0.01975  0.375  0.166667  0.041136          1.0          1.0\n",
       "8  0.666667  0.33225  0.000  0.333333  0.021731          0.0          1.0\n",
       "9  0.333333  0.16975  0.125  0.000000  0.058694          0.0          0.0"
      ]
     },
     "execution_count": 5,
     "metadata": {},
     "output_type": "execute_result"
    }
   ],
   "source": [
    "# Convert all to [0 - 1] \n",
    "\n",
    "for i in df.columns:\n",
    "    a = max(df[i])\n",
    "    b = min(df[i])\n",
    "    df[i] = (df[i] - b) / a\n",
    "    \n",
    "df.head(10)"
   ]
  },
  {
   "cell_type": "code",
   "execution_count": 6,
   "id": "5dc7bcc2",
   "metadata": {
    "execution": {
     "iopub.execute_input": "2023-03-14T17:08:54.410845Z",
     "iopub.status.busy": "2023-03-14T17:08:54.410199Z",
     "iopub.status.idle": "2023-03-14T17:08:54.555941Z",
     "shell.execute_reply": "2023-03-14T17:08:54.554687Z"
    },
    "papermill": {
     "duration": 0.15562,
     "end_time": "2023-03-14T17:08:54.558762",
     "exception": false,
     "start_time": "2023-03-14T17:08:54.403142",
     "status": "completed"
    },
    "tags": []
   },
   "outputs": [],
   "source": [
    "# Train/test splitting\n",
    "\n",
    "x_train, x_test, y_train, y_test = train_test_split(\n",
    "    df, y, test_size = 0.2, random_state = 13)\n",
    "\n",
    "# Build network model\n",
    "\n",
    "model = keras.Sequential([\n",
    "    layers.Dense(256, activation=\"relu\"),\n",
    "    layers.Dropout(.75),\n",
    "    layers.Dense(128, activation=\"relu\"),\n",
    "    layers.Dropout(.1),\n",
    "    layers.Dense(64, activation=\"relu\"),\n",
    "    layers.Dense(1, activation=\"sigmoid\")\n",
    "])\n",
    "\n",
    "model.compile(optimizer=\"Adam\",\n",
    "             loss=\"binary_crossentropy\",\n",
    "             metrics=[\"accuracy\"])"
   ]
  },
  {
   "cell_type": "code",
   "execution_count": 7,
   "id": "2374f6a2",
   "metadata": {
    "execution": {
     "iopub.execute_input": "2023-03-14T17:08:54.571676Z",
     "iopub.status.busy": "2023-03-14T17:08:54.571274Z",
     "iopub.status.idle": "2023-03-14T17:09:02.199820Z",
     "shell.execute_reply": "2023-03-14T17:09:02.198786Z"
    },
    "papermill": {
     "duration": 7.638317,
     "end_time": "2023-03-14T17:09:02.202817",
     "exception": false,
     "start_time": "2023-03-14T17:08:54.564500",
     "status": "completed"
    },
    "scrolled": true,
    "tags": []
   },
   "outputs": [
    {
     "name": "stdout",
     "output_type": "stream",
     "text": [
      "Epoch 1/60\n",
      "23/23 [==============================] - 2s 14ms/step - loss: 0.6294 - accuracy: 0.6110 - val_loss: 0.5611 - val_accuracy: 0.6425\n",
      "Epoch 2/60\n",
      "23/23 [==============================] - 0s 4ms/step - loss: 0.5845 - accuracy: 0.6896 - val_loss: 0.4990 - val_accuracy: 0.7877\n",
      "Epoch 3/60\n",
      "23/23 [==============================] - 0s 4ms/step - loss: 0.5467 - accuracy: 0.7458 - val_loss: 0.4577 - val_accuracy: 0.8212\n",
      "Epoch 4/60\n",
      "23/23 [==============================] - 0s 4ms/step - loss: 0.5242 - accuracy: 0.7865 - val_loss: 0.4399 - val_accuracy: 0.8212\n",
      "Epoch 5/60\n",
      "23/23 [==============================] - 0s 4ms/step - loss: 0.5136 - accuracy: 0.7683 - val_loss: 0.4386 - val_accuracy: 0.8212\n",
      "Epoch 6/60\n",
      "23/23 [==============================] - 0s 4ms/step - loss: 0.4963 - accuracy: 0.7851 - val_loss: 0.4203 - val_accuracy: 0.8156\n",
      "Epoch 7/60\n",
      "23/23 [==============================] - 0s 5ms/step - loss: 0.4840 - accuracy: 0.7893 - val_loss: 0.4136 - val_accuracy: 0.8156\n",
      "Epoch 8/60\n",
      "23/23 [==============================] - 0s 4ms/step - loss: 0.4947 - accuracy: 0.7851 - val_loss: 0.4223 - val_accuracy: 0.8212\n",
      "Epoch 9/60\n",
      "23/23 [==============================] - 0s 4ms/step - loss: 0.4757 - accuracy: 0.7851 - val_loss: 0.4148 - val_accuracy: 0.8156\n",
      "Epoch 10/60\n",
      "23/23 [==============================] - 0s 5ms/step - loss: 0.4933 - accuracy: 0.7739 - val_loss: 0.4132 - val_accuracy: 0.8156\n",
      "Epoch 11/60\n",
      "23/23 [==============================] - 0s 4ms/step - loss: 0.4786 - accuracy: 0.7795 - val_loss: 0.4171 - val_accuracy: 0.8268\n",
      "Epoch 12/60\n",
      "23/23 [==============================] - 0s 5ms/step - loss: 0.4578 - accuracy: 0.7865 - val_loss: 0.4095 - val_accuracy: 0.8268\n",
      "Epoch 13/60\n",
      "23/23 [==============================] - 0s 4ms/step - loss: 0.4655 - accuracy: 0.7992 - val_loss: 0.4164 - val_accuracy: 0.8212\n",
      "Epoch 14/60\n",
      "23/23 [==============================] - 0s 4ms/step - loss: 0.4583 - accuracy: 0.7992 - val_loss: 0.4094 - val_accuracy: 0.8324\n",
      "Epoch 15/60\n",
      "23/23 [==============================] - 0s 4ms/step - loss: 0.4474 - accuracy: 0.7963 - val_loss: 0.4166 - val_accuracy: 0.8156\n",
      "Epoch 16/60\n",
      "23/23 [==============================] - 0s 4ms/step - loss: 0.4625 - accuracy: 0.7907 - val_loss: 0.4111 - val_accuracy: 0.8324\n",
      "Epoch 17/60\n",
      "23/23 [==============================] - 0s 4ms/step - loss: 0.4590 - accuracy: 0.7823 - val_loss: 0.4119 - val_accuracy: 0.8268\n",
      "Epoch 18/60\n",
      "23/23 [==============================] - 0s 4ms/step - loss: 0.4691 - accuracy: 0.7879 - val_loss: 0.4186 - val_accuracy: 0.8380\n",
      "Epoch 19/60\n",
      "23/23 [==============================] - 0s 4ms/step - loss: 0.4438 - accuracy: 0.8006 - val_loss: 0.4076 - val_accuracy: 0.8324\n",
      "Epoch 20/60\n",
      "23/23 [==============================] - 0s 4ms/step - loss: 0.4540 - accuracy: 0.7935 - val_loss: 0.4229 - val_accuracy: 0.8380\n",
      "Epoch 21/60\n",
      "23/23 [==============================] - 0s 4ms/step - loss: 0.4565 - accuracy: 0.8062 - val_loss: 0.4147 - val_accuracy: 0.8324\n",
      "Epoch 22/60\n",
      "23/23 [==============================] - 0s 4ms/step - loss: 0.4618 - accuracy: 0.7949 - val_loss: 0.4194 - val_accuracy: 0.8324\n",
      "Epoch 23/60\n",
      "23/23 [==============================] - 0s 4ms/step - loss: 0.4445 - accuracy: 0.7978 - val_loss: 0.4211 - val_accuracy: 0.8324\n",
      "Epoch 24/60\n",
      "23/23 [==============================] - 0s 4ms/step - loss: 0.4600 - accuracy: 0.7851 - val_loss: 0.4198 - val_accuracy: 0.8212\n",
      "Epoch 25/60\n",
      "23/23 [==============================] - 0s 4ms/step - loss: 0.4290 - accuracy: 0.8132 - val_loss: 0.4206 - val_accuracy: 0.8212\n",
      "Epoch 26/60\n",
      "23/23 [==============================] - 0s 4ms/step - loss: 0.4642 - accuracy: 0.7921 - val_loss: 0.4185 - val_accuracy: 0.8156\n",
      "Epoch 27/60\n",
      "23/23 [==============================] - 0s 4ms/step - loss: 0.4534 - accuracy: 0.8034 - val_loss: 0.4269 - val_accuracy: 0.8324\n",
      "Epoch 28/60\n",
      "23/23 [==============================] - 0s 4ms/step - loss: 0.4523 - accuracy: 0.8020 - val_loss: 0.4170 - val_accuracy: 0.8268\n",
      "Epoch 29/60\n",
      "23/23 [==============================] - 0s 4ms/step - loss: 0.4510 - accuracy: 0.7893 - val_loss: 0.4177 - val_accuracy: 0.8268\n",
      "Epoch 30/60\n",
      "23/23 [==============================] - 0s 4ms/step - loss: 0.4400 - accuracy: 0.8034 - val_loss: 0.4159 - val_accuracy: 0.8324\n",
      "Epoch 31/60\n",
      "23/23 [==============================] - 0s 4ms/step - loss: 0.4472 - accuracy: 0.7992 - val_loss: 0.4328 - val_accuracy: 0.8212\n",
      "Epoch 32/60\n",
      "23/23 [==============================] - 0s 4ms/step - loss: 0.4396 - accuracy: 0.8048 - val_loss: 0.4173 - val_accuracy: 0.8268\n",
      "Epoch 33/60\n",
      "23/23 [==============================] - 0s 4ms/step - loss: 0.4532 - accuracy: 0.7978 - val_loss: 0.4270 - val_accuracy: 0.8324\n",
      "Epoch 34/60\n",
      "23/23 [==============================] - 0s 4ms/step - loss: 0.4500 - accuracy: 0.8006 - val_loss: 0.4209 - val_accuracy: 0.8268\n",
      "Epoch 35/60\n",
      "23/23 [==============================] - 0s 4ms/step - loss: 0.4386 - accuracy: 0.8020 - val_loss: 0.4218 - val_accuracy: 0.8268\n",
      "Epoch 36/60\n",
      "23/23 [==============================] - 0s 4ms/step - loss: 0.4451 - accuracy: 0.8090 - val_loss: 0.4247 - val_accuracy: 0.8212\n",
      "Epoch 37/60\n",
      "23/23 [==============================] - 0s 4ms/step - loss: 0.4500 - accuracy: 0.8034 - val_loss: 0.4282 - val_accuracy: 0.8212\n",
      "Epoch 38/60\n",
      "23/23 [==============================] - 0s 4ms/step - loss: 0.4367 - accuracy: 0.8160 - val_loss: 0.4238 - val_accuracy: 0.8268\n",
      "Epoch 39/60\n",
      "23/23 [==============================] - 0s 4ms/step - loss: 0.4419 - accuracy: 0.8090 - val_loss: 0.4311 - val_accuracy: 0.8212\n",
      "Epoch 40/60\n",
      "23/23 [==============================] - 0s 4ms/step - loss: 0.4268 - accuracy: 0.8090 - val_loss: 0.4393 - val_accuracy: 0.8324\n",
      "Epoch 41/60\n",
      "23/23 [==============================] - 0s 4ms/step - loss: 0.4457 - accuracy: 0.8048 - val_loss: 0.4263 - val_accuracy: 0.8380\n",
      "Epoch 42/60\n",
      "23/23 [==============================] - 0s 4ms/step - loss: 0.4431 - accuracy: 0.8118 - val_loss: 0.4262 - val_accuracy: 0.8324\n",
      "Epoch 43/60\n",
      "23/23 [==============================] - 0s 4ms/step - loss: 0.4335 - accuracy: 0.8104 - val_loss: 0.4286 - val_accuracy: 0.8380\n",
      "Epoch 44/60\n",
      "23/23 [==============================] - 0s 4ms/step - loss: 0.4314 - accuracy: 0.8048 - val_loss: 0.4276 - val_accuracy: 0.8380\n",
      "Epoch 45/60\n",
      "23/23 [==============================] - 0s 4ms/step - loss: 0.4419 - accuracy: 0.8020 - val_loss: 0.4361 - val_accuracy: 0.8324\n",
      "Epoch 46/60\n",
      "23/23 [==============================] - 0s 4ms/step - loss: 0.4280 - accuracy: 0.8188 - val_loss: 0.4249 - val_accuracy: 0.8324\n",
      "Epoch 47/60\n",
      "23/23 [==============================] - 0s 4ms/step - loss: 0.4436 - accuracy: 0.8132 - val_loss: 0.4258 - val_accuracy: 0.8436\n",
      "Epoch 48/60\n",
      "23/23 [==============================] - 0s 4ms/step - loss: 0.4289 - accuracy: 0.8090 - val_loss: 0.4254 - val_accuracy: 0.8380\n",
      "Epoch 49/60\n",
      "23/23 [==============================] - 0s 4ms/step - loss: 0.4351 - accuracy: 0.8160 - val_loss: 0.4345 - val_accuracy: 0.8324\n",
      "Epoch 50/60\n",
      "23/23 [==============================] - 0s 4ms/step - loss: 0.4244 - accuracy: 0.8188 - val_loss: 0.4298 - val_accuracy: 0.8324\n",
      "Epoch 51/60\n",
      "23/23 [==============================] - 0s 4ms/step - loss: 0.4235 - accuracy: 0.8188 - val_loss: 0.4245 - val_accuracy: 0.8380\n",
      "Epoch 52/60\n",
      "23/23 [==============================] - 0s 4ms/step - loss: 0.4413 - accuracy: 0.8090 - val_loss: 0.4310 - val_accuracy: 0.8380\n",
      "Epoch 53/60\n",
      "23/23 [==============================] - 0s 4ms/step - loss: 0.4259 - accuracy: 0.8174 - val_loss: 0.4252 - val_accuracy: 0.8324\n",
      "Epoch 54/60\n",
      "23/23 [==============================] - 0s 4ms/step - loss: 0.4256 - accuracy: 0.8132 - val_loss: 0.4303 - val_accuracy: 0.8268\n",
      "Epoch 55/60\n",
      "23/23 [==============================] - 0s 4ms/step - loss: 0.4067 - accuracy: 0.8301 - val_loss: 0.4318 - val_accuracy: 0.8268\n",
      "Epoch 56/60\n",
      "23/23 [==============================] - 0s 4ms/step - loss: 0.4392 - accuracy: 0.8160 - val_loss: 0.4435 - val_accuracy: 0.8212\n",
      "Epoch 57/60\n",
      "23/23 [==============================] - 0s 4ms/step - loss: 0.4312 - accuracy: 0.8132 - val_loss: 0.4323 - val_accuracy: 0.8324\n",
      "Epoch 58/60\n",
      "23/23 [==============================] - 0s 4ms/step - loss: 0.4232 - accuracy: 0.8230 - val_loss: 0.4331 - val_accuracy: 0.8324\n",
      "Epoch 59/60\n",
      "23/23 [==============================] - 0s 4ms/step - loss: 0.4236 - accuracy: 0.8258 - val_loss: 0.4327 - val_accuracy: 0.8324\n",
      "Epoch 60/60\n",
      "23/23 [==============================] - 0s 4ms/step - loss: 0.4130 - accuracy: 0.8287 - val_loss: 0.4389 - val_accuracy: 0.8268\n"
     ]
    },
    {
     "data": {
      "text/plain": [
       "dict_keys(['loss', 'accuracy', 'val_loss', 'val_accuracy'])"
      ]
     },
     "execution_count": 7,
     "metadata": {},
     "output_type": "execute_result"
    }
   ],
   "source": [
    "# Fit it!\n",
    "\n",
    "history = model.fit(x_train,\n",
    "                    y_train,\n",
    "                    epochs = 60,\n",
    "                    batch_size = 32,\n",
    "                    validation_data = (x_test, y_test))\n",
    "\n",
    "history_dict = history.history\n",
    "history_dict.keys()"
   ]
  },
  {
   "cell_type": "code",
   "execution_count": 8,
   "id": "0e1f0448",
   "metadata": {
    "execution": {
     "iopub.execute_input": "2023-03-14T17:09:02.243149Z",
     "iopub.status.busy": "2023-03-14T17:09:02.242012Z",
     "iopub.status.idle": "2023-03-14T17:09:02.698860Z",
     "shell.execute_reply": "2023-03-14T17:09:02.697793Z"
    },
    "papermill": {
     "duration": 0.479212,
     "end_time": "2023-03-14T17:09:02.701485",
     "exception": false,
     "start_time": "2023-03-14T17:09:02.222273",
     "status": "completed"
    },
    "tags": []
   },
   "outputs": [
    {
     "data": {
      "image/png": "[encoded data removed]",
      "text/plain": [
       "<Figure size 640x480 with 1 Axes>"
      ]
     },
     "metadata": {},
     "output_type": "display_data"
    },
    {
     "data": {
      "image/png": "[encoded data removed]",
      "text/plain": [
       "<Figure size 640x480 with 1 Axes>"
      ]
     },
     "metadata": {},
     "output_type": "display_data"
    }
   ],
   "source": [
    "# Visualization of training process, epoch/loss\n",
    "\n",
    "history_dict = history.history\n",
    "loss_values = history_dict[\"loss\"]\n",
    "val_loss_values = history_dict[\"val_loss\"]\n",
    "epochs = range(1, len(loss_values) + 1)\n",
    "plt.plot(epochs, loss_values, \"bo\", label=\"Training loss\")\n",
    "plt.plot(epochs, val_loss_values, \"b\", label=\"Validation loss\")\n",
    "plt.title(\"Training and validation loss\")\n",
    "plt.xlabel(\"Epochs\")\n",
    "plt.ylabel(\"Loss\")\n",
    "plt.legend()\n",
    "plt.show()\n",
    "\n",
    "# Visualization of training process, epoch/accuracy\n",
    "\n",
    "plt.clf()\n",
    "acc = history_dict[\"accuracy\"]\n",
    "val_acc = history_dict[\"val_accuracy\"]\n",
    "plt.plot(epochs, acc, \"bo\", label=\"Training acc\")\n",
    "plt.plot(epochs, val_acc, \"b\", label=\"Validation acc\")\n",
    "plt.title(\"Training and validation accuracy\")\n",
    "plt.xlabel(\"Epochs\")\n",
    "plt.ylabel(\"Accuracy\")\n",
    "plt.legend()\n",
    "plt.show()\n",
    "\n"
   ]
  },
  {
   "cell_type": "code",
   "execution_count": 9,
   "id": "3f2cbd1c",
   "metadata": {
    "execution": {
     "iopub.execute_input": "2023-03-14T17:09:02.743922Z",
     "iopub.status.busy": "2023-03-14T17:09:02.743484Z",
     "iopub.status.idle": "2023-03-14T17:09:03.012828Z",
     "shell.execute_reply": "2023-03-14T17:09:03.011345Z"
    },
    "papermill": {
     "duration": 0.292991,
     "end_time": "2023-03-14T17:09:03.015249",
     "exception": false,
     "start_time": "2023-03-14T17:09:02.722258",
     "status": "completed"
    },
    "tags": []
   },
   "outputs": [
    {
     "name": "stdout",
     "output_type": "stream",
     "text": [
      "6/6 [==============================] - 0s 2ms/step\n",
      "6/6 [==============================] - 0s 2ms/step - loss: 0.4389 - accuracy: 0.8268\n",
      "test_acc: 0.826815664768219\n"
     ]
    }
   ],
   "source": [
    "# Prediction and accuracy\n",
    "\n",
    "pred = model.predict(x_test)\n",
    "test_loss, test_acc = model.evaluate(x_test, y_test)\n",
    "print(f\"test_acc: {test_acc}\")"
   ]
  },
  {
   "cell_type": "code",
   "execution_count": 10,
   "id": "0aa760a2",
   "metadata": {
    "execution": {
     "iopub.execute_input": "2023-03-14T17:09:03.057120Z",
     "iopub.status.busy": "2023-03-14T17:09:03.056037Z",
     "iopub.status.idle": "2023-03-14T17:09:03.064329Z",
     "shell.execute_reply": "2023-03-14T17:09:03.063389Z"
    },
    "papermill": {
     "duration": 0.031399,
     "end_time": "2023-03-14T17:09:03.066463",
     "exception": false,
     "start_time": "2023-03-14T17:09:03.035064",
     "status": "completed"
    },
    "tags": []
   },
   "outputs": [
    {
     "data": {
      "text/plain": [
       "0.7246376811594203"
      ]
     },
     "execution_count": 10,
     "metadata": {},
     "output_type": "execute_result"
    }
   ],
   "source": [
    "# Optimal metric of success\n",
    "\n",
    "p = np.around(pred)\n",
    "recall_score(y_test, p)\n"
   ]
  },
  {
   "cell_type": "code",
   "execution_count": 11,
   "id": "0fa3b680",
   "metadata": {
    "execution": {
     "iopub.execute_input": "2023-03-14T17:09:03.108408Z",
     "iopub.status.busy": "2023-03-14T17:09:03.107291Z",
     "iopub.status.idle": "2023-03-14T17:09:03.131908Z",
     "shell.execute_reply": "2023-03-14T17:09:03.130687Z"
    },
    "papermill": {
     "duration": 0.048183,
     "end_time": "2023-03-14T17:09:03.134313",
     "exception": false,
     "start_time": "2023-03-14T17:09:03.086130",
     "status": "completed"
    },
    "tags": []
   },
   "outputs": [
    {
     "data": {
      "text/html": [
       "<div>\n",
       "<style scoped>\n",
       "    .dataframe tbody tr th:only-of-type {\n",
       "        vertical-align: middle;\n",
       "    }\n",
       "\n",
       "    .dataframe tbody tr th {\n",
       "        vertical-align: top;\n",
       "    }\n",
       "\n",
       "    .dataframe thead th {\n",
       "        text-align: right;\n",
       "    }\n",
       "</style>\n",
       "<table border=\"1\" class=\"dataframe\">\n",
       "  <thead>\n",
       "    <tr style=\"text-align: right;\">\n",
       "      <th></th>\n",
       "      <th>PassengerId</th>\n",
       "      <th>Pclass</th>\n",
       "      <th>Name</th>\n",
       "      <th>Sex</th>\n",
       "      <th>Age</th>\n",
       "      <th>SibSp</th>\n",
       "      <th>Parch</th>\n",
       "      <th>Ticket</th>\n",
       "      <th>Fare</th>\n",
       "      <th>Cabin</th>\n",
       "      <th>Embarked</th>\n",
       "    </tr>\n",
       "  </thead>\n",
       "  <tbody>\n",
       "    <tr>\n",
       "      <th>0</th>\n",
       "      <td>892</td>\n",
       "      <td>3</td>\n",
       "      <td>Kelly, Mr. James</td>\n",
       "      <td>male</td>\n",
       "      <td>34.5</td>\n",
       "      <td>0</td>\n",
       "      <td>0</td>\n",
       "      <td>330911</td>\n",
       "      <td>7.8292</td>\n",
       "      <td>NaN</td>\n",
       "      <td>Q</td>\n",
       "    </tr>\n",
       "    <tr>\n",
       "      <th>1</th>\n",
       "      <td>893</td>\n",
       "      <td>3</td>\n",
       "      <td>Wilkes, Mrs. James (Ellen Needs)</td>\n",
       "      <td>female</td>\n",
       "      <td>47.0</td>\n",
       "      <td>1</td>\n",
       "      <td>0</td>\n",
       "      <td>363272</td>\n",
       "      <td>7.0000</td>\n",
       "      <td>NaN</td>\n",
       "      <td>S</td>\n",
       "    </tr>\n",
       "    <tr>\n",
       "      <th>2</th>\n",
       "      <td>894</td>\n",
       "      <td>2</td>\n",
       "      <td>Myles, Mr. Thomas Francis</td>\n",
       "      <td>male</td>\n",
       "      <td>62.0</td>\n",
       "      <td>0</td>\n",
       "      <td>0</td>\n",
       "      <td>240276</td>\n",
       "      <td>9.6875</td>\n",
       "      <td>NaN</td>\n",
       "      <td>Q</td>\n",
       "    </tr>\n",
       "    <tr>\n",
       "      <th>3</th>\n",
       "      <td>895</td>\n",
       "      <td>3</td>\n",
       "      <td>Wirz, Mr. Albert</td>\n",
       "      <td>male</td>\n",
       "      <td>27.0</td>\n",
       "      <td>0</td>\n",
       "      <td>0</td>\n",
       "      <td>315154</td>\n",
       "      <td>8.6625</td>\n",
       "      <td>NaN</td>\n",
       "      <td>S</td>\n",
       "    </tr>\n",
       "    <tr>\n",
       "      <th>4</th>\n",
       "      <td>896</td>\n",
       "      <td>3</td>\n",
       "      <td>Hirvonen, Mrs. Alexander (Helga E Lindqvist)</td>\n",
       "      <td>female</td>\n",
       "      <td>22.0</td>\n",
       "      <td>1</td>\n",
       "      <td>1</td>\n",
       "      <td>3101298</td>\n",
       "      <td>12.2875</td>\n",
       "      <td>NaN</td>\n",
       "      <td>S</td>\n",
       "    </tr>\n",
       "  </tbody>\n",
       "</table>\n",
       "</div>"
      ],
      "text/plain": [
       "   PassengerId  Pclass                                          Name     Sex  \\\n",
       "0          892       3                              Kelly, Mr. James    male   \n",
       "1          893       3              Wilkes, Mrs. James (Ellen Needs)  female   \n",
       "2          894       2                     Myles, Mr. Thomas Francis    male   \n",
       "3          895       3                              Wirz, Mr. Albert    male   \n",
       "4          896       3  Hirvonen, Mrs. Alexander (Helga E Lindqvist)  female   \n",
       "\n",
       "    Age  SibSp  Parch   Ticket     Fare Cabin Embarked  \n",
       "0  34.5      0      0   330911   7.8292   NaN        Q  \n",
       "1  47.0      1      0   363272   7.0000   NaN        S  \n",
       "2  62.0      0      0   240276   9.6875   NaN        Q  \n",
       "3  27.0      0      0   315154   8.6625   NaN        S  \n",
       "4  22.0      1      1  3101298  12.2875   NaN        S  "
      ]
     },
     "execution_count": 11,
     "metadata": {},
     "output_type": "execute_result"
    }
   ],
   "source": [
    "# Now. Testing and making prediction & submission\n",
    "\n",
    "test = pd.read_csv('/kaggle/input/titanic/test.csv')\n",
    "test.head(5)"
   ]
  },
  {
   "cell_type": "code",
   "execution_count": 12,
   "id": "84696296",
   "metadata": {
    "execution": {
     "iopub.execute_input": "2023-03-14T17:09:03.177474Z",
     "iopub.status.busy": "2023-03-14T17:09:03.176336Z",
     "iopub.status.idle": "2023-03-14T17:09:03.195591Z",
     "shell.execute_reply": "2023-03-14T17:09:03.194665Z"
    },
    "papermill": {
     "duration": 0.04336,
     "end_time": "2023-03-14T17:09:03.198071",
     "exception": false,
     "start_time": "2023-03-14T17:09:03.154711",
     "status": "completed"
    },
    "tags": []
   },
   "outputs": [],
   "source": [
    "mean_age = test[[\"Age\"]].mean()\n",
    "\n",
    "test = test.fillna({'Age':mean_age})\n",
    "test = test.fillna(method = \"ffill\")\n",
    "\n",
    "label_encoder = preprocessing.LabelEncoder()\n",
    "\n",
    "test['gender_type'] = label_encoder.fit_transform(test[\"Sex\"])\n",
    "test['embark_type'] = label_encoder.fit_transform(test[\"Embarked\"])\n",
    "\n",
    "del test['Ticket']\n",
    "del test['Sex']\n",
    "del test['Embarked']\n",
    "del test['Cabin']\n",
    "del test['Name']\n",
    "del test['PassengerId']\n",
    "\n",
    "for i in test.columns:\n",
    "    a = max(test[i])\n",
    "    b = min(test[i])\n",
    "    test[i] = (test[i] - b) / a"
   ]
  },
  {
   "cell_type": "code",
   "execution_count": 13,
   "id": "9100f28b",
   "metadata": {
    "execution": {
     "iopub.execute_input": "2023-03-14T17:09:03.240946Z",
     "iopub.status.busy": "2023-03-14T17:09:03.239831Z",
     "iopub.status.idle": "2023-03-14T17:09:03.249629Z",
     "shell.execute_reply": "2023-03-14T17:09:03.248546Z"
    },
    "papermill": {
     "duration": 0.033441,
     "end_time": "2023-03-14T17:09:03.251881",
     "exception": false,
     "start_time": "2023-03-14T17:09:03.218440",
     "status": "completed"
    },
    "tags": []
   },
   "outputs": [
    {
     "data": {
      "text/plain": [
       "Pclass         0\n",
       "Age            0\n",
       "SibSp          0\n",
       "Parch          0\n",
       "Fare           0\n",
       "gender_type    0\n",
       "embark_type    0\n",
       "dtype: int64"
      ]
     },
     "execution_count": 13,
     "metadata": {},
     "output_type": "execute_result"
    }
   ],
   "source": [
    "test.isnull().sum()"
   ]
  },
  {
   "cell_type": "code",
   "execution_count": 14,
   "id": "7914614d",
   "metadata": {
    "execution": {
     "iopub.execute_input": "2023-03-14T17:09:03.293848Z",
     "iopub.status.busy": "2023-03-14T17:09:03.293459Z",
     "iopub.status.idle": "2023-03-14T17:09:03.397953Z",
     "shell.execute_reply": "2023-03-14T17:09:03.396696Z"
    },
    "papermill": {
     "duration": 0.128844,
     "end_time": "2023-03-14T17:09:03.400824",
     "exception": false,
     "start_time": "2023-03-14T17:09:03.271980",
     "status": "completed"
    },
    "tags": []
   },
   "outputs": [
    {
     "name": "stdout",
     "output_type": "stream",
     "text": [
      "14/14 [==============================] - 0s 1ms/step\n"
     ]
    }
   ],
   "source": [
    "sub = np.round(model.predict(test))\n"
   ]
  },
  {
   "cell_type": "code",
   "execution_count": 15,
   "id": "63b09ecd",
   "metadata": {
    "execution": {
     "iopub.execute_input": "2023-03-14T17:09:03.443877Z",
     "iopub.status.busy": "2023-03-14T17:09:03.443413Z",
     "iopub.status.idle": "2023-03-14T17:09:03.463192Z",
     "shell.execute_reply": "2023-03-14T17:09:03.461648Z"
    },
    "papermill": {
     "duration": 0.044215,
     "end_time": "2023-03-14T17:09:03.465578",
     "exception": false,
     "start_time": "2023-03-14T17:09:03.421363",
     "status": "completed"
    },
    "tags": []
   },
   "outputs": [
    {
     "data": {
      "text/html": [
       "<div>\n",
       "<style scoped>\n",
       "    .dataframe tbody tr th:only-of-type {\n",
       "        vertical-align: middle;\n",
       "    }\n",
       "\n",
       "    .dataframe tbody tr th {\n",
       "        vertical-align: top;\n",
       "    }\n",
       "\n",
       "    .dataframe thead th {\n",
       "        text-align: right;\n",
       "    }\n",
       "</style>\n",
       "<table border=\"1\" class=\"dataframe\">\n",
       "  <thead>\n",
       "    <tr style=\"text-align: right;\">\n",
       "      <th></th>\n",
       "      <th>PassengerId</th>\n",
       "    </tr>\n",
       "  </thead>\n",
       "  <tbody>\n",
       "    <tr>\n",
       "      <th>0</th>\n",
       "      <td>892</td>\n",
       "    </tr>\n",
       "    <tr>\n",
       "      <th>1</th>\n",
       "      <td>893</td>\n",
       "    </tr>\n",
       "    <tr>\n",
       "      <th>2</th>\n",
       "      <td>894</td>\n",
       "    </tr>\n",
       "    <tr>\n",
       "      <th>3</th>\n",
       "      <td>895</td>\n",
       "    </tr>\n",
       "    <tr>\n",
       "      <th>4</th>\n",
       "      <td>896</td>\n",
       "    </tr>\n",
       "  </tbody>\n",
       "</table>\n",
       "</div>"
      ],
      "text/plain": [
       "   PassengerId\n",
       "0          892\n",
       "1          893\n",
       "2          894\n",
       "3          895\n",
       "4          896"
      ]
     },
     "execution_count": 15,
     "metadata": {},
     "output_type": "execute_result"
    }
   ],
   "source": [
    "submission = pd.read_csv('/kaggle/input/titanic/test.csv')\n",
    "\n",
    "del submission['Ticket']\n",
    "del submission['Sex']\n",
    "del submission['Embarked']\n",
    "del submission['Cabin']\n",
    "del submission['Name']\n",
    "del submission['Pclass']\n",
    "del submission['SibSp']\n",
    "del submission['Parch']\n",
    "del submission['Fare']\n",
    "del submission['Age']\n",
    "                  \n",
    "submission.head()"
   ]
  },
  {
   "cell_type": "code",
   "execution_count": 16,
   "id": "d51a2ccf",
   "metadata": {
    "execution": {
     "iopub.execute_input": "2023-03-14T17:09:03.508290Z",
     "iopub.status.busy": "2023-03-14T17:09:03.507879Z",
     "iopub.status.idle": "2023-03-14T17:09:03.643576Z",
     "shell.execute_reply": "2023-03-14T17:09:03.642509Z"
    },
    "papermill": {
     "duration": 0.16047,
     "end_time": "2023-03-14T17:09:03.646608",
     "exception": false,
     "start_time": "2023-03-14T17:09:03.486138",
     "status": "completed"
    },
    "tags": []
   },
   "outputs": [
    {
     "name": "stdout",
     "output_type": "stream",
     "text": [
      "14/14 [==============================] - 0s 1ms/step\n"
     ]
    }
   ],
   "source": [
    "submission[\"Survived\"] = np.round(model.predict(test)).astype(int)\n",
    "submission.to_csv('/kaggle/working/submission.csv', index=False)\n"
   ]
  },
  {
   "cell_type": "code",
   "execution_count": 17,
   "id": "392704c3",
   "metadata": {
    "execution": {
     "iopub.execute_input": "2023-03-14T17:09:03.691517Z",
     "iopub.status.busy": "2023-03-14T17:09:03.690270Z",
     "iopub.status.idle": "2023-03-14T17:09:03.700924Z",
     "shell.execute_reply": "2023-03-14T17:09:03.699748Z"
    },
    "papermill": {
     "duration": 0.035343,
     "end_time": "2023-03-14T17:09:03.703238",
     "exception": false,
     "start_time": "2023-03-14T17:09:03.667895",
     "status": "completed"
    },
    "tags": []
   },
   "outputs": [
    {
     "data": {
      "text/html": [
       "<div>\n",
       "<style scoped>\n",
       "    .dataframe tbody tr th:only-of-type {\n",
       "        vertical-align: middle;\n",
       "    }\n",
       "\n",
       "    .dataframe tbody tr th {\n",
       "        vertical-align: top;\n",
       "    }\n",
       "\n",
       "    .dataframe thead th {\n",
       "        text-align: right;\n",
       "    }\n",
       "</style>\n",
       "<table border=\"1\" class=\"dataframe\">\n",
       "  <thead>\n",
       "    <tr style=\"text-align: right;\">\n",
       "      <th></th>\n",
       "      <th>PassengerId</th>\n",
       "      <th>Survived</th>\n",
       "    </tr>\n",
       "  </thead>\n",
       "  <tbody>\n",
       "    <tr>\n",
       "      <th>0</th>\n",
       "      <td>892</td>\n",
       "      <td>0</td>\n",
       "    </tr>\n",
       "    <tr>\n",
       "      <th>1</th>\n",
       "      <td>893</td>\n",
       "      <td>0</td>\n",
       "    </tr>\n",
       "    <tr>\n",
       "      <th>2</th>\n",
       "      <td>894</td>\n",
       "      <td>0</td>\n",
       "    </tr>\n",
       "    <tr>\n",
       "      <th>3</th>\n",
       "      <td>895</td>\n",
       "      <td>0</td>\n",
       "    </tr>\n",
       "    <tr>\n",
       "      <th>4</th>\n",
       "      <td>896</td>\n",
       "      <td>0</td>\n",
       "    </tr>\n",
       "  </tbody>\n",
       "</table>\n",
       "</div>"
      ],
      "text/plain": [
       "   PassengerId  Survived\n",
       "0          892         0\n",
       "1          893         0\n",
       "2          894         0\n",
       "3          895         0\n",
       "4          896         0"
      ]
     },
     "execution_count": 17,
     "metadata": {},
     "output_type": "execute_result"
    }
   ],
   "source": [
    "submission.head()"
   ]
  }
 ],
 "metadata": {
  "kernelspec": {
   "display_name": "Python 3 (ipykernel)",
   "language": "python",
   "name": "python3"
  },
  "language_info": {
   "codemirror_mode": {
    "name": "ipython",
    "version": 3
   },
   "file_extension": ".py",
   "mimetype": "text/x-python",
   "name": "python",
   "nbconvert_exporter": "python",
   "pygments_lexer": "ipython3",
   "version": "3.7.12"
  },
  "papermill": {
   "default_parameters": {},
   "duration": 33.123915,
   "end_time": "2023-03-14T17:09:06.760057",
   "environment_variables": {},
   "exception": null,
   "input_path": "__notebook__.ipynb",
   "output_path": "__notebook__.ipynb",
   "parameters": {},
   "start_time": "2023-03-14T17:08:33.636142",
   "version": "2.4.0"
  }
 },
 "nbformat": 4,
 "nbformat_minor": 5
}
